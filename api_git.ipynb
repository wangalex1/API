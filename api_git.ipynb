{
 "cells": [
  {
   "cell_type": "markdown",
   "metadata": {},
   "source": [
    "#### 1. Посмотреть документацию к API GitHub, разобраться как вывести список репозиториев для конкретного пользователя, сохранить JSON-вывод в файле *.json."
   ]
  },
  {
   "cell_type": "markdown",
   "metadata": {},
   "source": [
    "Импортируем все необходимые библиотеки "
   ]
  },
  {
   "cell_type": "code",
   "execution_count": 47,
   "metadata": {},
   "outputs": [],
   "source": [
    " import json\n",
    "import requests\n",
    "import numpy as np\n",
    "import pandas as pd\n",
    "\n",
    "import requests\n",
    "from requests.auth import HTTPBasicAuth\n",
    "\n",
    "credentials = json.loads(open('credentials.json').read())\n",
    "authentication = HTTPBasicAuth(credentials['username'], credentials['password'])"
   ]
  },
  {
   "cell_type": "markdown",
   "metadata": {},
   "source": [
    "Что бы защитить сбор данных , добавим данные авторизации в файл credentials.json"
   ]
  },
  {
   "cell_type": "code",
   "execution_count": 48,
   "metadata": {},
   "outputs": [],
   "source": [
    "data_my_git_account = requests.get('https://api.github.com/users/' + credentials['username'],\n",
    "                    auth = authentication)\n",
    "data_my_git_account = data_my_git_account.json()"
   ]
  },
  {
   "cell_type": "markdown",
   "metadata": {},
   "source": [
    "#### Таким образом , мы получили данные моего аккаунта на github"
   ]
  },
  {
   "cell_type": "code",
   "execution_count": 49,
   "metadata": {},
   "outputs": [
    {
     "data": {
      "text/plain": [
       "{'login': 'wangalex1',\n",
       " 'id': 17257231,\n",
       " 'node_id': 'MDQ6VXNlcjE3MjU3MjMx',\n",
       " 'avatar_url': 'https://avatars.githubusercontent.com/u/17257231?v=4',\n",
       " 'gravatar_id': '',\n",
       " 'url': 'https://api.github.com/users/wangalex1',\n",
       " 'html_url': 'https://github.com/wangalex1',\n",
       " 'followers_url': 'https://api.github.com/users/wangalex1/followers',\n",
       " 'following_url': 'https://api.github.com/users/wangalex1/following{/other_user}',\n",
       " 'gists_url': 'https://api.github.com/users/wangalex1/gists{/gist_id}',\n",
       " 'starred_url': 'https://api.github.com/users/wangalex1/starred{/owner}{/repo}',\n",
       " 'subscriptions_url': 'https://api.github.com/users/wangalex1/subscriptions',\n",
       " 'organizations_url': 'https://api.github.com/users/wangalex1/orgs',\n",
       " 'repos_url': 'https://api.github.com/users/wangalex1/repos',\n",
       " 'events_url': 'https://api.github.com/users/wangalex1/events{/privacy}',\n",
       " 'received_events_url': 'https://api.github.com/users/wangalex1/received_events',\n",
       " 'type': 'User',\n",
       " 'site_admin': False,\n",
       " 'name': None,\n",
       " 'company': None,\n",
       " 'blog': '',\n",
       " 'location': None,\n",
       " 'email': None,\n",
       " 'hireable': None,\n",
       " 'bio': None,\n",
       " 'twitter_username': None,\n",
       " 'public_repos': 21,\n",
       " 'public_gists': 0,\n",
       " 'followers': 0,\n",
       " 'following': 2,\n",
       " 'created_at': '2016-02-15T18:41:10Z',\n",
       " 'updated_at': '2021-02-26T09:39:17Z'}"
      ]
     },
     "execution_count": 49,
     "metadata": {},
     "output_type": "execute_result"
    }
   ],
   "source": [
    "data_my_git_account"
   ]
  },
  {
   "cell_type": "code",
   "execution_count": 54,
   "metadata": {},
   "outputs": [],
   "source": [
    "with open('data_my_git_account', 'w') as f:\n",
    "    json.dump(data_my_git_account, f)"
   ]
  },
  {
   "cell_type": "markdown",
   "metadata": {},
   "source": [
    "Можно вытянуть кое какую информацию о моем аккаунте "
   ]
  },
  {
   "cell_type": "code",
   "execution_count": 50,
   "metadata": {},
   "outputs": [
    {
     "name": "stdout",
     "output_type": "stream",
     "text": [
      "Information about user wangalex1:\n",
      "\n",
      "Name: None\n",
      "Email: None\n",
      "Location: None\n",
      "Public repos: 21\n",
      "Public gists: 0\n",
      "About: None\n"
     ]
    }
   ],
   "source": [
    "print(\"Information about user {}:\\n\".format(credentials['username']))\n",
    "print(\"Name: {}\".format(data['name']))\n",
    "print(\"Email: {}\".format(data['email']))\n",
    "print(\"Location: {}\".format(data['location']))\n",
    "print(\"Public repos: {}\".format(data['public_repos']))\n",
    "print(\"Public gists: {}\".format(data['public_gists']))\n",
    "print(\"About: {}\".format(data['bio']))"
   ]
  },
  {
   "cell_type": "markdown",
   "metadata": {},
   "source": [
    "Вытянем сколько репозиториев в аккаунте "
   ]
  },
  {
   "cell_type": "code",
   "execution_count": 51,
   "metadata": {},
   "outputs": [
    {
     "name": "stdout",
     "output_type": "stream",
     "text": [
      "Total repositories fetched: 21\n"
     ]
    }
   ],
   "source": [
    "url = data_my_git_account['repos_url']\n",
    "page_no = 1\n",
    "repos_data = []\n",
    "while (True):\n",
    "    response = requests.get(url, auth = authentication)\n",
    "    response = response.json()\n",
    "    repos_data = repos_data + response\n",
    "    repos_fetched = len(response)\n",
    "    print(\"Total repositories fetched: {}\".format(repos_fetched))\n",
    "    if (repos_fetched == 30):\n",
    "        page_no = page_no + 1\n",
    "        url = data['repos_url'].encode(\"UTF-8\") + '?page=' + str(page_no)\n",
    "    else:\n",
    "        break"
   ]
  },
  {
   "cell_type": "markdown",
   "metadata": {},
   "source": [
    "#### Вот данные о каждом репозитории"
   ]
  },
  {
   "cell_type": "code",
   "execution_count": 52,
   "metadata": {},
   "outputs": [
    {
     "data": {
      "text/plain": [
       "{'id': 183409911,\n",
       " 'node_id': 'MDEwOlJlcG9zaXRvcnkxODM0MDk5MTE=',\n",
       " 'name': '-C-Developer-Course',\n",
       " 'full_name': 'wangalex1/-C-Developer-Course',\n",
       " 'private': False,\n",
       " 'owner': {'login': 'wangalex1',\n",
       "  'id': 17257231,\n",
       "  'node_id': 'MDQ6VXNlcjE3MjU3MjMx',\n",
       "  'avatar_url': 'https://avatars.githubusercontent.com/u/17257231?v=4',\n",
       "  'gravatar_id': '',\n",
       "  'url': 'https://api.github.com/users/wangalex1',\n",
       "  'html_url': 'https://github.com/wangalex1',\n",
       "  'followers_url': 'https://api.github.com/users/wangalex1/followers',\n",
       "  'following_url': 'https://api.github.com/users/wangalex1/following{/other_user}',\n",
       "  'gists_url': 'https://api.github.com/users/wangalex1/gists{/gist_id}',\n",
       "  'starred_url': 'https://api.github.com/users/wangalex1/starred{/owner}{/repo}',\n",
       "  'subscriptions_url': 'https://api.github.com/users/wangalex1/subscriptions',\n",
       "  'organizations_url': 'https://api.github.com/users/wangalex1/orgs',\n",
       "  'repos_url': 'https://api.github.com/users/wangalex1/repos',\n",
       "  'events_url': 'https://api.github.com/users/wangalex1/events{/privacy}',\n",
       "  'received_events_url': 'https://api.github.com/users/wangalex1/received_events',\n",
       "  'type': 'User',\n",
       "  'site_admin': False},\n",
       " 'html_url': 'https://github.com/wangalex1/-C-Developer-Course',\n",
       " 'description': 'The Complete C# Developer Course',\n",
       " 'fork': False,\n",
       " 'url': 'https://api.github.com/repos/wangalex1/-C-Developer-Course',\n",
       " 'forks_url': 'https://api.github.com/repos/wangalex1/-C-Developer-Course/forks',\n",
       " 'keys_url': 'https://api.github.com/repos/wangalex1/-C-Developer-Course/keys{/key_id}',\n",
       " 'collaborators_url': 'https://api.github.com/repos/wangalex1/-C-Developer-Course/collaborators{/collaborator}',\n",
       " 'teams_url': 'https://api.github.com/repos/wangalex1/-C-Developer-Course/teams',\n",
       " 'hooks_url': 'https://api.github.com/repos/wangalex1/-C-Developer-Course/hooks',\n",
       " 'issue_events_url': 'https://api.github.com/repos/wangalex1/-C-Developer-Course/issues/events{/number}',\n",
       " 'events_url': 'https://api.github.com/repos/wangalex1/-C-Developer-Course/events',\n",
       " 'assignees_url': 'https://api.github.com/repos/wangalex1/-C-Developer-Course/assignees{/user}',\n",
       " 'branches_url': 'https://api.github.com/repos/wangalex1/-C-Developer-Course/branches{/branch}',\n",
       " 'tags_url': 'https://api.github.com/repos/wangalex1/-C-Developer-Course/tags',\n",
       " 'blobs_url': 'https://api.github.com/repos/wangalex1/-C-Developer-Course/git/blobs{/sha}',\n",
       " 'git_tags_url': 'https://api.github.com/repos/wangalex1/-C-Developer-Course/git/tags{/sha}',\n",
       " 'git_refs_url': 'https://api.github.com/repos/wangalex1/-C-Developer-Course/git/refs{/sha}',\n",
       " 'trees_url': 'https://api.github.com/repos/wangalex1/-C-Developer-Course/git/trees{/sha}',\n",
       " 'statuses_url': 'https://api.github.com/repos/wangalex1/-C-Developer-Course/statuses/{sha}',\n",
       " 'languages_url': 'https://api.github.com/repos/wangalex1/-C-Developer-Course/languages',\n",
       " 'stargazers_url': 'https://api.github.com/repos/wangalex1/-C-Developer-Course/stargazers',\n",
       " 'contributors_url': 'https://api.github.com/repos/wangalex1/-C-Developer-Course/contributors',\n",
       " 'subscribers_url': 'https://api.github.com/repos/wangalex1/-C-Developer-Course/subscribers',\n",
       " 'subscription_url': 'https://api.github.com/repos/wangalex1/-C-Developer-Course/subscription',\n",
       " 'commits_url': 'https://api.github.com/repos/wangalex1/-C-Developer-Course/commits{/sha}',\n",
       " 'git_commits_url': 'https://api.github.com/repos/wangalex1/-C-Developer-Course/git/commits{/sha}',\n",
       " 'comments_url': 'https://api.github.com/repos/wangalex1/-C-Developer-Course/comments{/number}',\n",
       " 'issue_comment_url': 'https://api.github.com/repos/wangalex1/-C-Developer-Course/issues/comments{/number}',\n",
       " 'contents_url': 'https://api.github.com/repos/wangalex1/-C-Developer-Course/contents/{+path}',\n",
       " 'compare_url': 'https://api.github.com/repos/wangalex1/-C-Developer-Course/compare/{base}...{head}',\n",
       " 'merges_url': 'https://api.github.com/repos/wangalex1/-C-Developer-Course/merges',\n",
       " 'archive_url': 'https://api.github.com/repos/wangalex1/-C-Developer-Course/{archive_format}{/ref}',\n",
       " 'downloads_url': 'https://api.github.com/repos/wangalex1/-C-Developer-Course/downloads',\n",
       " 'issues_url': 'https://api.github.com/repos/wangalex1/-C-Developer-Course/issues{/number}',\n",
       " 'pulls_url': 'https://api.github.com/repos/wangalex1/-C-Developer-Course/pulls{/number}',\n",
       " 'milestones_url': 'https://api.github.com/repos/wangalex1/-C-Developer-Course/milestones{/number}',\n",
       " 'notifications_url': 'https://api.github.com/repos/wangalex1/-C-Developer-Course/notifications{?since,all,participating}',\n",
       " 'labels_url': 'https://api.github.com/repos/wangalex1/-C-Developer-Course/labels{/name}',\n",
       " 'releases_url': 'https://api.github.com/repos/wangalex1/-C-Developer-Course/releases{/id}',\n",
       " 'deployments_url': 'https://api.github.com/repos/wangalex1/-C-Developer-Course/deployments',\n",
       " 'created_at': '2019-04-25T10:14:30Z',\n",
       " 'updated_at': '2019-04-26T11:03:14Z',\n",
       " 'pushed_at': '2019-04-26T11:03:12Z',\n",
       " 'git_url': 'git://github.com/wangalex1/-C-Developer-Course.git',\n",
       " 'ssh_url': 'git@github.com:wangalex1/-C-Developer-Course.git',\n",
       " 'clone_url': 'https://github.com/wangalex1/-C-Developer-Course.git',\n",
       " 'svn_url': 'https://github.com/wangalex1/-C-Developer-Course',\n",
       " 'homepage': None,\n",
       " 'size': 9,\n",
       " 'stargazers_count': 0,\n",
       " 'watchers_count': 0,\n",
       " 'language': 'C#',\n",
       " 'has_issues': True,\n",
       " 'has_projects': True,\n",
       " 'has_downloads': True,\n",
       " 'has_wiki': True,\n",
       " 'has_pages': False,\n",
       " 'forks_count': 0,\n",
       " 'mirror_url': None,\n",
       " 'archived': False,\n",
       " 'disabled': False,\n",
       " 'open_issues_count': 0,\n",
       " 'license': None,\n",
       " 'forks': 0,\n",
       " 'open_issues': 0,\n",
       " 'watchers': 0,\n",
       " 'default_branch': 'master'}"
      ]
     },
     "execution_count": 52,
     "metadata": {},
     "output_type": "execute_result"
    }
   ],
   "source": [
    "repos_data[0]"
   ]
  },
  {
   "cell_type": "code",
   "execution_count": 53,
   "metadata": {},
   "outputs": [],
   "source": [
    "with open('repos_data.json', 'w') as f:\n",
    "    json.dump(repos_data, f)"
   ]
  },
  {
   "cell_type": "code",
   "execution_count": null,
   "metadata": {},
   "outputs": [],
   "source": []
  },
  {
   "cell_type": "code",
   "execution_count": null,
   "metadata": {},
   "outputs": [],
   "source": []
  }
 ],
 "metadata": {
  "kernelspec": {
   "display_name": "Python 3",
   "language": "python",
   "name": "python3"
  },
  "language_info": {
   "codemirror_mode": {
    "name": "ipython",
    "version": 3
   },
   "file_extension": ".py",
   "mimetype": "text/x-python",
   "name": "python",
   "nbconvert_exporter": "python",
   "pygments_lexer": "ipython3",
   "version": "3.8.5"
  }
 },
 "nbformat": 4,
 "nbformat_minor": 4
}
